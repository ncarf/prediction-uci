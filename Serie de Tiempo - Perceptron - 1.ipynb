{
 "cells": [
  {
   "cell_type": "markdown",
   "metadata": {},
   "source": [
    "# Brownlee, Jason (2019) Deep Learning With Python.Ed Brownlee, J. Ed. Machine Learning Mastery Pty. Ltd.\n",
    "https://machinelearningmastery.com/\n",
    "\n",
    "Problema: Predicción de series de tiempo.  \n",
    "Serie:    Número mensual de pasajeros que viajaron en líneas aéreas en USA entre 1949 y 1960.  \n",
    "Datos:    Año-mes, número de pasajeros.  \n",
    "Modelo:   Red Neuronal - Perceptron"
   ]
  },
  {
   "cell_type": "code",
   "execution_count": 52,
   "metadata": {},
   "outputs": [],
   "source": [
    "import numpy\n",
    "import os\n",
    "import math\n",
    "import matplotlib as mpl\n",
    "import matplotlib.pyplot as plt\n",
    "\n",
    "from pandas import read_csv\n",
    "from keras.models import Sequential\n",
    "from keras.layers import Dense"
   ]
  },
  {
   "cell_type": "code",
   "execution_count": 53,
   "metadata": {},
   "outputs": [
    {
     "data": {
      "text/html": [
       "<div>\n",
       "<style scoped>\n",
       "    .dataframe tbody tr th:only-of-type {\n",
       "        vertical-align: middle;\n",
       "    }\n",
       "\n",
       "    .dataframe tbody tr th {\n",
       "        vertical-align: top;\n",
       "    }\n",
       "\n",
       "    .dataframe thead th {\n",
       "        text-align: right;\n",
       "    }\n",
       "</style>\n",
       "<table border=\"1\" class=\"dataframe\">\n",
       "  <thead>\n",
       "    <tr style=\"text-align: right;\">\n",
       "      <th></th>\n",
       "      <th>Month</th>\n",
       "      <th>Passengers</th>\n",
       "    </tr>\n",
       "  </thead>\n",
       "  <tbody>\n",
       "    <tr>\n",
       "      <th>0</th>\n",
       "      <td>1949-01</td>\n",
       "      <td>112</td>\n",
       "    </tr>\n",
       "    <tr>\n",
       "      <th>1</th>\n",
       "      <td>1949-02</td>\n",
       "      <td>118</td>\n",
       "    </tr>\n",
       "    <tr>\n",
       "      <th>2</th>\n",
       "      <td>1949-03</td>\n",
       "      <td>132</td>\n",
       "    </tr>\n",
       "    <tr>\n",
       "      <th>3</th>\n",
       "      <td>1949-04</td>\n",
       "      <td>129</td>\n",
       "    </tr>\n",
       "    <tr>\n",
       "      <th>4</th>\n",
       "      <td>1949-05</td>\n",
       "      <td>121</td>\n",
       "    </tr>\n",
       "    <tr>\n",
       "      <th>5</th>\n",
       "      <td>1949-06</td>\n",
       "      <td>135</td>\n",
       "    </tr>\n",
       "    <tr>\n",
       "      <th>6</th>\n",
       "      <td>1949-07</td>\n",
       "      <td>148</td>\n",
       "    </tr>\n",
       "    <tr>\n",
       "      <th>7</th>\n",
       "      <td>1949-08</td>\n",
       "      <td>148</td>\n",
       "    </tr>\n",
       "    <tr>\n",
       "      <th>8</th>\n",
       "      <td>1949-09</td>\n",
       "      <td>136</td>\n",
       "    </tr>\n",
       "    <tr>\n",
       "      <th>9</th>\n",
       "      <td>1949-10</td>\n",
       "      <td>119</td>\n",
       "    </tr>\n",
       "    <tr>\n",
       "      <th>10</th>\n",
       "      <td>1949-11</td>\n",
       "      <td>104</td>\n",
       "    </tr>\n",
       "    <tr>\n",
       "      <th>11</th>\n",
       "      <td>1949-12</td>\n",
       "      <td>118</td>\n",
       "    </tr>\n",
       "    <tr>\n",
       "      <th>12</th>\n",
       "      <td>1950-01</td>\n",
       "      <td>115</td>\n",
       "    </tr>\n",
       "    <tr>\n",
       "      <th>13</th>\n",
       "      <td>1950-02</td>\n",
       "      <td>126</td>\n",
       "    </tr>\n",
       "    <tr>\n",
       "      <th>14</th>\n",
       "      <td>1950-03</td>\n",
       "      <td>141</td>\n",
       "    </tr>\n",
       "  </tbody>\n",
       "</table>\n",
       "</div>"
      ],
      "text/plain": [
       "      Month  Passengers\n",
       "0   1949-01         112\n",
       "1   1949-02         118\n",
       "2   1949-03         132\n",
       "3   1949-04         129\n",
       "4   1949-05         121\n",
       "5   1949-06         135\n",
       "6   1949-07         148\n",
       "7   1949-08         148\n",
       "8   1949-09         136\n",
       "9   1949-10         119\n",
       "10  1949-11         104\n",
       "11  1949-12         118\n",
       "12  1950-01         115\n",
       "13  1950-02         126\n",
       "14  1950-03         141"
      ]
     },
     "execution_count": 53,
     "metadata": {},
     "output_type": "execute_result"
    }
   ],
   "source": [
    "# load the dataset(number passengers 1949-1960 in thousands)\n",
    "dataframe = read_csv('international-airline-passengers.csv', usecols=[0,1], engine='python')\n",
    "#dataframe['Month'].head(15)\n",
    "dataframe.head(15)"
   ]
  },
  {
   "cell_type": "code",
   "execution_count": 54,
   "metadata": {},
   "outputs": [
    {
     "data": {
      "text/plain": [
       "(144, 2)"
      ]
     },
     "execution_count": 54,
     "metadata": {},
     "output_type": "execute_result"
    }
   ],
   "source": [
    "numpy.shape(dataframe)"
   ]
  },
  {
   "cell_type": "code",
   "execution_count": 55,
   "metadata": {},
   "outputs": [
    {
     "data": {
      "text/plain": [
       "array([[112.],\n",
       "       [118.],\n",
       "       [132.],\n",
       "       [129.],\n",
       "       [121.],\n",
       "       [135.],\n",
       "       [148.],\n",
       "       [148.],\n",
       "       [136.],\n",
       "       [119.]], dtype=float32)"
      ]
     },
     "execution_count": 55,
     "metadata": {},
     "output_type": "execute_result"
    }
   ],
   "source": [
    "# load the dataset again column 1\n",
    "dataframe = read_csv('international-airline-passengers.csv', usecols=[1], engine='python')\n",
    "dataset = dataframe.values\n",
    "dataset = dataset.astype('float32')\n",
    "numpy.shape(dataset)\n",
    "dataset[:10]\n",
    "#dataset"
   ]
  },
  {
   "cell_type": "code",
   "execution_count": 56,
   "metadata": {},
   "outputs": [],
   "source": [
    "# To make this notebook's output stable across runs\n",
    "numpy.random.seed(42)\n",
    "\n",
    "# To plot pretty figures\n",
    "%matplotlib inline\n",
    "\n",
    "mpl.rc('axes', labelsize=14)\n",
    "mpl.rc('xtick', labelsize=12)\n",
    "mpl.rc('ytick', labelsize=12)\n",
    "\n",
    "# Where to save the figures\n",
    "PROJECT_ROOT_DIR = \"C:/Users/MII/Desktop/VP-Conce-2020/ML-Curso/ML-Jason Brownlee/Cap23\"\n",
    "IMAGES_PATH = os.path.join(PROJECT_ROOT_DIR, \"Images\")\n",
    "def save_fig(fig_id, tight_layout=True, fig_extension=\"png\", resolution=300):\n",
    "    path = os.path.join(IMAGES_PATH, fig_id + \".\" + fig_extension)\n",
    "    print(\"Saving figure\", fig_id)\n",
    "    if tight_layout:\n",
    "        plt.tight_layout()\n",
    "    plt.savefig(path, format=fig_extension, dpi=resolution)\n"
   ]
  },
  {
   "cell_type": "code",
   "execution_count": 57,
   "metadata": {},
   "outputs": [],
   "source": [
    "# Function to create the data set\n",
    "# Equation f(yt) = f(yt-1)\n",
    "# convert an array of values into a dataset matrix\n",
    "def create_dataset(dataset, look_back=1):\n",
    "\tdataX, dataY = [], []\n",
    "\tfor i in range(len(dataset)-look_back-1):\n",
    "\t\ta = dataset[i:(i+look_back), 0]\n",
    "\t\tdataX.append(a)\n",
    "\t\tdataY.append(dataset[i + look_back, 0])\n",
    "\treturn numpy.array(dataX), numpy.array(dataY)"
   ]
  },
  {
   "cell_type": "code",
   "execution_count": 58,
   "metadata": {},
   "outputs": [],
   "source": [
    "# split into train and test sets\n",
    "train_size = int(len(dataset) * 0.67)\n",
    "test_size = len(dataset) - train_size\n",
    "train, test = dataset[0:train_size,:], dataset[train_size:len(dataset),:]\n",
    "\n",
    "# reshape into X=t and Y=t+1\n",
    "look_back = 1\n",
    "trainX, trainY = create_dataset(train, look_back)\n",
    "testX, testY = create_dataset(test, look_back)"
   ]
  },
  {
   "cell_type": "code",
   "execution_count": 59,
   "metadata": {},
   "outputs": [
    {
     "data": {
      "text/html": [
       "<div>\n",
       "<style scoped>\n",
       "    .dataframe tbody tr th:only-of-type {\n",
       "        vertical-align: middle;\n",
       "    }\n",
       "\n",
       "    .dataframe tbody tr th {\n",
       "        vertical-align: top;\n",
       "    }\n",
       "\n",
       "    .dataframe thead th {\n",
       "        text-align: right;\n",
       "    }\n",
       "</style>\n",
       "<table border=\"1\" class=\"dataframe\">\n",
       "  <thead>\n",
       "    <tr style=\"text-align: right;\">\n",
       "      <th></th>\n",
       "      <th>Passengers</th>\n",
       "    </tr>\n",
       "  </thead>\n",
       "  <tbody>\n",
       "    <tr>\n",
       "      <th>0</th>\n",
       "      <td>112</td>\n",
       "    </tr>\n",
       "    <tr>\n",
       "      <th>1</th>\n",
       "      <td>118</td>\n",
       "    </tr>\n",
       "    <tr>\n",
       "      <th>2</th>\n",
       "      <td>132</td>\n",
       "    </tr>\n",
       "    <tr>\n",
       "      <th>3</th>\n",
       "      <td>129</td>\n",
       "    </tr>\n",
       "    <tr>\n",
       "      <th>4</th>\n",
       "      <td>121</td>\n",
       "    </tr>\n",
       "    <tr>\n",
       "      <th>5</th>\n",
       "      <td>135</td>\n",
       "    </tr>\n",
       "    <tr>\n",
       "      <th>6</th>\n",
       "      <td>148</td>\n",
       "    </tr>\n",
       "    <tr>\n",
       "      <th>7</th>\n",
       "      <td>148</td>\n",
       "    </tr>\n",
       "    <tr>\n",
       "      <th>8</th>\n",
       "      <td>136</td>\n",
       "    </tr>\n",
       "    <tr>\n",
       "      <th>9</th>\n",
       "      <td>119</td>\n",
       "    </tr>\n",
       "  </tbody>\n",
       "</table>\n",
       "</div>"
      ],
      "text/plain": [
       "   Passengers\n",
       "0         112\n",
       "1         118\n",
       "2         132\n",
       "3         129\n",
       "4         121\n",
       "5         135\n",
       "6         148\n",
       "7         148\n",
       "8         136\n",
       "9         119"
      ]
     },
     "execution_count": 59,
     "metadata": {},
     "output_type": "execute_result"
    }
   ],
   "source": [
    "dataframe.head(10)"
   ]
  },
  {
   "cell_type": "code",
   "execution_count": 60,
   "metadata": {},
   "outputs": [
    {
     "data": {
      "text/plain": [
       "(96, 48)"
      ]
     },
     "execution_count": 60,
     "metadata": {},
     "output_type": "execute_result"
    }
   ],
   "source": [
    "train_size, test_size"
   ]
  },
  {
   "cell_type": "code",
   "execution_count": 61,
   "metadata": {
    "scrolled": true
   },
   "outputs": [
    {
     "name": "stdout",
     "output_type": "stream",
     "text": [
      "trainX [[112.]\n",
      " [118.]\n",
      " [132.]\n",
      " [129.]\n",
      " [121.]\n",
      " [135.]\n",
      " [148.]\n",
      " [148.]\n",
      " [136.]\n",
      " [119.]] trainY [118. 132. 129. 121. 135. 148. 148. 136. 119. 104. 118. 115. 126. 141.\n",
      " 135. 125. 149. 170. 170. 158. 133. 114. 140. 145. 150. 178. 163. 172.\n",
      " 178. 199. 199. 184. 162. 146. 166. 171. 180. 193. 181. 183. 218. 230.\n",
      " 242. 209. 191. 172. 194. 196. 196. 236. 235. 229. 243. 264. 272. 237.\n",
      " 211. 180. 201. 204. 188. 235. 227. 234. 264. 302. 293. 259. 229. 203.\n",
      " 229. 242. 233. 267. 269. 270. 315. 364. 347. 312. 274. 237. 278. 284.\n",
      " 277. 317. 313. 318. 374. 413. 405. 355. 306. 271.]\n"
     ]
    }
   ],
   "source": [
    "print('trainX', trainX[0:10,:], 'trainY', trainY)"
   ]
  },
  {
   "cell_type": "code",
   "execution_count": 62,
   "metadata": {},
   "outputs": [
    {
     "name": "stdout",
     "output_type": "stream",
     "text": [
      "Epoch 1/90\n",
      " - 0s - loss: 23662.8756\n",
      "Epoch 2/90\n",
      " - 0s - loss: 14576.4938\n",
      "Epoch 3/90\n",
      " - 0s - loss: 8367.9435\n",
      "Epoch 4/90\n",
      " - 0s - loss: 4398.8265\n",
      "Epoch 5/90\n",
      " - 0s - loss: 2170.4771\n",
      "Epoch 6/90\n",
      " - 0s - loss: 1124.5501\n",
      "Epoch 7/90\n",
      " - 0s - loss: 701.5716\n",
      "Epoch 8/90\n",
      " - 0s - loss: 584.3807\n",
      "Epoch 9/90\n",
      " - 0s - loss: 553.3800\n",
      "Epoch 10/90\n",
      " - 0s - loss: 544.0091\n",
      "Epoch 11/90\n",
      " - 0s - loss: 539.7122\n",
      "Epoch 12/90\n",
      " - 0s - loss: 537.9089\n",
      "Epoch 13/90\n",
      " - 0s - loss: 543.0130\n",
      "Epoch 14/90\n",
      " - 0s - loss: 545.0532\n",
      "Epoch 15/90\n",
      " - 0s - loss: 538.9408\n",
      "Epoch 16/90\n",
      " - 0s - loss: 539.3739\n",
      "Epoch 17/90\n",
      " - 0s - loss: 538.0285\n",
      "Epoch 18/90\n",
      " - 0s - loss: 538.2657\n",
      "Epoch 19/90\n",
      " - 0s - loss: 541.7646\n",
      "Epoch 20/90\n",
      " - 0s - loss: 538.6608\n",
      "Epoch 21/90\n",
      " - 0s - loss: 546.4726\n",
      "Epoch 22/90\n",
      " - 0s - loss: 543.3714\n",
      "Epoch 23/90\n",
      " - 0s - loss: 542.9562\n",
      "Epoch 24/90\n",
      " - 0s - loss: 540.8521\n",
      "Epoch 25/90\n",
      " - 0s - loss: 545.1643\n",
      "Epoch 26/90\n",
      " - 0s - loss: 542.6701\n",
      "Epoch 27/90\n",
      " - 0s - loss: 540.0576\n",
      "Epoch 28/90\n",
      " - 0s - loss: 544.9891\n",
      "Epoch 29/90\n",
      " - 0s - loss: 538.3929\n",
      "Epoch 30/90\n",
      " - 0s - loss: 538.8542\n",
      "Epoch 31/90\n",
      " - 0s - loss: 547.1220\n",
      "Epoch 32/90\n",
      " - 0s - loss: 543.2212\n",
      "Epoch 33/90\n",
      " - 0s - loss: 542.5382\n",
      "Epoch 34/90\n",
      " - 0s - loss: 544.9524\n",
      "Epoch 35/90\n",
      " - 0s - loss: 553.5903\n",
      "Epoch 36/90\n",
      " - 0s - loss: 543.1024\n",
      "Epoch 37/90\n",
      " - 0s - loss: 547.7883\n",
      "Epoch 38/90\n",
      " - 0s - loss: 543.9461\n",
      "Epoch 39/90\n",
      " - 0s - loss: 538.6801\n",
      "Epoch 40/90\n",
      " - 0s - loss: 545.9493\n",
      "Epoch 41/90\n",
      " - 0s - loss: 544.9042\n",
      "Epoch 42/90\n",
      " - 0s - loss: 543.4112\n",
      "Epoch 43/90\n",
      " - 0s - loss: 545.4901\n",
      "Epoch 44/90\n",
      " - 0s - loss: 552.1478\n",
      "Epoch 45/90\n",
      " - 0s - loss: 548.9952\n",
      "Epoch 46/90\n",
      " - 0s - loss: 544.6893\n",
      "Epoch 47/90\n",
      " - 0s - loss: 544.0044\n",
      "Epoch 48/90\n",
      " - 0s - loss: 546.8443\n",
      "Epoch 49/90\n",
      " - 0s - loss: 544.9328\n",
      "Epoch 50/90\n",
      " - 0s - loss: 543.1971\n",
      "Epoch 51/90\n",
      " - 0s - loss: 543.7933\n",
      "Epoch 52/90\n",
      " - 0s - loss: 539.9110\n",
      "Epoch 53/90\n",
      " - 0s - loss: 539.6171\n",
      "Epoch 54/90\n",
      " - 0s - loss: 541.8052\n",
      "Epoch 55/90\n",
      " - 0s - loss: 541.4181\n",
      "Epoch 56/90\n",
      " - 0s - loss: 546.2901\n",
      "Epoch 57/90\n",
      " - 0s - loss: 553.3407\n",
      "Epoch 58/90\n",
      " - 0s - loss: 543.6498\n",
      "Epoch 59/90\n",
      " - 0s - loss: 551.4539\n",
      "Epoch 60/90\n",
      " - 0s - loss: 542.2252\n",
      "Epoch 61/90\n",
      " - 0s - loss: 547.6238\n",
      "Epoch 62/90\n",
      " - 0s - loss: 543.2775\n",
      "Epoch 63/90\n",
      " - 0s - loss: 549.8722\n",
      "Epoch 64/90\n",
      " - 0s - loss: 552.4746\n",
      "Epoch 65/90\n",
      " - 0s - loss: 558.3802\n",
      "Epoch 66/90\n",
      " - 0s - loss: 544.6602\n",
      "Epoch 67/90\n",
      " - 0s - loss: 538.3649\n",
      "Epoch 68/90\n",
      " - 0s - loss: 544.7276\n",
      "Epoch 69/90\n",
      " - 0s - loss: 548.5705\n",
      "Epoch 70/90\n",
      " - 0s - loss: 542.0986\n",
      "Epoch 71/90\n",
      " - 0s - loss: 541.7834\n",
      "Epoch 72/90\n",
      " - 0s - loss: 548.3177\n",
      "Epoch 73/90\n",
      " - 0s - loss: 541.6679\n",
      "Epoch 74/90\n",
      " - 0s - loss: 541.3926\n",
      "Epoch 75/90\n",
      " - 0s - loss: 545.1672\n",
      "Epoch 76/90\n",
      " - 0s - loss: 551.6567\n",
      "Epoch 77/90\n",
      " - 0s - loss: 543.7845\n",
      "Epoch 78/90\n",
      " - 0s - loss: 547.7150\n",
      "Epoch 79/90\n",
      " - 0s - loss: 543.6678\n",
      "Epoch 80/90\n",
      " - 0s - loss: 547.1572\n",
      "Epoch 81/90\n",
      " - 0s - loss: 538.8763\n",
      "Epoch 82/90\n",
      " - 0s - loss: 543.5001\n",
      "Epoch 83/90\n",
      " - 0s - loss: 542.4481\n",
      "Epoch 84/90\n",
      " - 0s - loss: 544.7113\n",
      "Epoch 85/90\n",
      " - 0s - loss: 543.7745\n",
      "Epoch 86/90\n",
      " - 0s - loss: 548.3495\n",
      "Epoch 87/90\n",
      " - 0s - loss: 546.8605\n",
      "Epoch 88/90\n",
      " - 0s - loss: 548.2088\n",
      "Epoch 89/90\n",
      " - 0s - loss: 548.4527\n",
      "Epoch 90/90\n",
      " - 0s - loss: 546.5992\n"
     ]
    },
    {
     "data": {
      "text/plain": [
       "<keras.callbacks.callbacks.History at 0x23dc29b23c8>"
      ]
     },
     "execution_count": 62,
     "metadata": {},
     "output_type": "execute_result"
    }
   ],
   "source": [
    "# create and fit Multilayer Perceptron model\n",
    "model = Sequential()\n",
    "model.add(Dense(8, input_dim=look_back, activation='relu'))\n",
    "model.add(Dense(1))\n",
    "model.compile(loss='mean_squared_error', optimizer='adam')\n",
    "model.fit(trainX, trainY, epochs=90, batch_size=2, verbose=2)"
   ]
  },
  {
   "cell_type": "code",
   "execution_count": 63,
   "metadata": {},
   "outputs": [
    {
     "name": "stdout",
     "output_type": "stream",
     "text": [
      "Train Score: 534.66 MSE (23.12 RMSE)\n",
      "Test Score: 2365.21 MSE (48.63 RMSE)\n"
     ]
    }
   ],
   "source": [
    "# Estimate model performance\n",
    "trainScore = model.evaluate(trainX, trainY, verbose=0)\n",
    "print('Train Score: %.2f MSE (%.2f RMSE)' % (trainScore, math.sqrt(trainScore)))\n",
    "testScore = model.evaluate(testX, testY, verbose=0)\n",
    "print('Test Score: %.2f MSE (%.2f RMSE)' % (testScore, math.sqrt(testScore)))"
   ]
  },
  {
   "cell_type": "code",
   "execution_count": 64,
   "metadata": {},
   "outputs": [],
   "source": [
    "# generate predictions for training\n",
    "trainPredict = model.predict(trainX)\n",
    "testPredict = model.predict(testX)"
   ]
  },
  {
   "cell_type": "code",
   "execution_count": 65,
   "metadata": {},
   "outputs": [],
   "source": [
    "# shift train predictions for plotting\n",
    "trainPredictPlot = numpy.empty_like(dataset)\n",
    "trainPredictPlot[:, :] = numpy.nan\n",
    "trainPredictPlot[look_back:len(trainPredict)+look_back, :] = trainPredict\n",
    "\n",
    "# shift test predictions for plotting\n",
    "testPredictPlot = numpy.empty_like(dataset)\n",
    "testPredictPlot[:, :] = numpy.nan\n",
    "testPredictPlot[len(trainPredict)+(look_back*2)+1:len(dataset)-1, :] = testPredict"
   ]
  },
  {
   "cell_type": "code",
   "execution_count": 66,
   "metadata": {},
   "outputs": [
    {
     "data": {
      "image/png": "[encoded data removed]",
      "text/plain": [
       "<Figure size 1296x576 with 1 Axes>"
      ]
     },
     "metadata": {
      "needs_background": "light"
     },
     "output_type": "display_data"
    }
   ],
   "source": [
    "# Plot original data and predictions\n",
    "fig, ax = plt.subplots(figsize=(18,8)) # Tamaño del gráfico\n",
    "plt.plot(dataset, color=\"blue\", label=\"Original data\")\n",
    "\n",
    "#Título del gráfico\n",
    "ax.set_title('Predicciones de viaje con Perceptron')\n",
    "\n",
    "# Define del eje y\n",
    "ax.set_ylabel('Número de viajes')\n",
    "plt.grid(True, 'major', 'y', ls='--', lw=1.5, c='k', alpha=.3)\n",
    "\n",
    "#Define el eje x\n",
    "ax.set_xlabel('Meses')\n",
    "plt.tick_params(axis='x', which='major', labelsize=12)\n",
    "\n",
    "plt.axis([0, 155,0,650])\n",
    "\n",
    "plt.plot(trainPredictPlot, color=\"green\", label=\"Train predict\")\n",
    "plt.plot(testPredictPlot, color=\"orange\", label=\"Test predict\")\n",
    "ax.legend(loc=\"lower right\", title=\"\", frameon=False)\n",
    "\n",
    "\n",
    "plt.show()\n",
    "#save_fig(\"Pronóstico Perceptron\")\n",
    "\n"
   ]
  },
  {
   "cell_type": "code",
   "execution_count": null,
   "metadata": {},
   "outputs": [],
   "source": []
  },
  {
   "cell_type": "code",
   "execution_count": null,
   "metadata": {},
   "outputs": [],
   "source": []
  }
 ],
 "metadata": {
  "kernelspec": {
   "display_name": "Python 3",
   "language": "python",
   "name": "python3"
  },
  "language_info": {
   "codemirror_mode": {
    "name": "ipython",
    "version": 3
   },
   "file_extension": ".py",
   "mimetype": "text/x-python",
   "name": "python",
   "nbconvert_exporter": "python",
   "pygments_lexer": "ipython3",
   "version": "3.7.7"
  }
 },
 "nbformat": 4,
 "nbformat_minor": 4
}
